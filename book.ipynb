{
 "cells": [
  {
   "cell_type": "code",
   "execution_count": 2,
   "outputs": [],
   "source": [
    "!cd .."
   ],
   "metadata": {
    "collapsed": false,
    "ExecuteTime": {
     "end_time": "2023-08-08T01:24:35.961648Z",
     "start_time": "2023-08-08T01:24:35.833418Z"
    }
   }
  },
  {
   "cell_type": "code",
   "execution_count": 3,
   "outputs": [
    {
     "data": {
      "text/plain": "True"
     },
     "execution_count": 3,
     "metadata": {},
     "output_type": "execute_result"
    }
   ],
   "source": [
    "!ls"
   ],
   "metadata": {
    "collapsed": false,
    "ExecuteTime": {
     "end_time": "2023-08-08T18:58:26.264337Z",
     "start_time": "2023-08-08T18:58:26.257746Z"
    }
   }
  },
  {
   "cell_type": "code",
   "execution_count": 4,
   "outputs": [],
   "source": [
    "# Provide the directory containing all the video files and the path to playlist.json\n",
    "video_files_directory = '/Users/ashishsavani/Library/CloudStorage/GoogleDrive-avsavani@gmail.com/My Drive/YouTube (1)/x'\n",
    "playlist_file_path = '/Users/ashishsavani/HubermanGPT/data/playlist/playlist.json'\n",
    "output_directory = '/Users/ashishsavani/HubermanGPT/data/processed'\n",
    "hl_playlist_full = \"https://www.youtube.com/playlist?list=PLPNW_gerXa4Pc8S2qoUQc5e8Ir97RLuVW\""
   ],
   "metadata": {
    "collapsed": false,
    "ExecuteTime": {
     "end_time": "2023-08-08T01:24:36.611488Z",
     "start_time": "2023-08-08T01:24:36.606844Z"
    }
   }
  },
  {
   "cell_type": "code",
   "execution_count": 5,
   "outputs": [],
   "source": [
    "def clean_title(title):\n",
    "    return re.sub(r'[^a-zA-Z0-9]', '', title)"
   ],
   "metadata": {
    "collapsed": false,
    "ExecuteTime": {
     "end_time": "2023-08-08T01:24:37.155115Z",
     "start_time": "2023-08-08T01:24:37.150040Z"
    }
   }
  },
  {
   "cell_type": "code",
   "execution_count": 6,
   "outputs": [],
   "source": [
    "import os\n",
    "import json\n",
    "import re"
   ],
   "metadata": {
    "collapsed": false,
    "ExecuteTime": {
     "end_time": "2023-08-08T01:24:37.526324Z",
     "start_time": "2023-08-08T01:24:37.521659Z"
    }
   }
  },
  {
   "cell_type": "code",
   "execution_count": 7,
   "outputs": [],
   "source": [
    "with open(playlist_file_path, 'r') as file:\n",
    "    playlist_data = json.load(file)"
   ],
   "metadata": {
    "collapsed": false,
    "ExecuteTime": {
     "end_time": "2023-08-08T01:24:37.830432Z",
     "start_time": "2023-08-08T01:24:37.824416Z"
    }
   }
  },
  {
   "cell_type": "code",
   "execution_count": 8,
   "outputs": [
    {
     "name": "stdout",
     "output_type": "stream",
     "text": [
      "Total files under /Users/ashishsavani/Library/CloudStorage/GoogleDrive-avsavani@gmail.com/My Drive/YouTube (1)/x: 98\n"
     ]
    }
   ],
   "source": [
    "# total files under video_files_directory\n",
    "total_files = len([name for name in os.listdir(video_files_directory) if os.path.isfile(os.path.join(video_files_directory, name))])\n",
    "print(f\"Total files under {video_files_directory}: {total_files}\")"
   ],
   "metadata": {
    "collapsed": false,
    "ExecuteTime": {
     "end_time": "2023-08-08T01:24:38.138864Z",
     "start_time": "2023-08-08T01:24:38.076063Z"
    }
   }
  },
  {
   "cell_type": "code",
   "execution_count": 9,
   "outputs": [
    {
     "name": "stdout",
     "output_type": "stream",
     "text": [
      "No matching chapters found for LIVE EVENT Q&A： Dr. Andrew Huberman Question & Answer in New York, NY.json\n",
      "LIVEEVENTQADrAndrewHubermanQuestionAnswerinNewYorkNY\n"
     ]
    }
   ],
   "source": [
    "for filename in os.listdir(video_files_directory):\n",
    "    if filename.endswith('.json'):\n",
    "        video_file_path = os.path.join(video_files_directory, filename)\n",
    "        with open(video_file_path, 'r') as file:\n",
    "            video_data = json.load(file)\n",
    "\n",
    "        cleaned_video_title = clean_title(filename.replace('.json', ''))\n",
    "        matching_video_chapters = None\n",
    "\n",
    "        # Finding the matching video chapters from the playlist\n",
    "        for video in playlist_data:\n",
    "            cleaned_playlist_title = clean_title(video['title'])\n",
    "            if \"NY\" in video['title']:\n",
    "                print(video['title'])\n",
    "            if cleaned_video_title in cleaned_playlist_title:\n",
    "                matching_video_chapters = video['chapters']\n",
    "                break\n",
    "\n",
    "        if not matching_video_chapters:\n",
    "            print(f\"No matching chapters found for {filename}\")\n",
    "            # print cleaned title\n",
    "            print(cleaned_video_title)\n",
    "            # continue\n",
    "            break"
   ],
   "metadata": {
    "collapsed": false,
    "ExecuteTime": {
     "end_time": "2023-08-08T01:24:38.699684Z",
     "start_time": "2023-08-08T01:24:38.559794Z"
    }
   }
  },
  {
   "cell_type": "code",
   "execution_count": 10,
   "outputs": [
    {
     "name": "stdout",
     "output_type": "stream",
     "text": [
      "['Tony Hawk: Harnessing Passion, Drive & Persistence for Lifelong Success | Huberman Lab Podcast', 'AMA #8: Balancing Caffeine, Decision Fatigue & Social Isolation', 'AMA #9: Kratom Risks, Does Infrared Sauna Work & Journaling Benefits', 'Dr. Maya Shankar: How to Shape Your Identity & Goals | Huberman Lab Podcast', 'How to Enhance Performance & Learning by Applying a Growth Mindset | Huberman Lab Podcast', 'Dr. Robert Malenka: How Your Brain’s Reward Circuits Drive Your Choices | Huberman Lab Podcast', 'Science-Supported Tools to Accelerate Your Fitness Goals | Huberman Lab Podcast', 'Dr. Jeffrey Goldberg: How to Improve Your Eye Health & Offset Vision Loss | Huberman Lab Podcast', 'Tim Ferriss: How to Learn Better & Create Your Best Future | Huberman Lab Podcast', 'The Science of MDMA & Its Therapeutic Uses: Benefits & Risks | Huberman Lab Podcast', 'Dr. Immordino-Yang: How Emotions & Social Factors Impact Learning | Huberman Lab Podcast', 'AMA #7: Cold Exposure, Maximizing REM Sleep & My Next Scientific Studies', 'Adderall, Stimulants & Modafinil for ADHD: Short- & Long-Term Effects | Huberman Lab Podcast', 'Dr. Robin Carhart-Harris: The Science of Psychedelics for Mental Health | Huberman Lab Podcast', 'Dr. Susanna Søberg: How to Use Cold & Heat Exposure to Improve Your Health | Huberman Lab Podcast', 'How Psilocybin Can Rewire Our Brain, Its Therapeutic Benefits & Its Risks | Huberman Lab Podcast', 'Dr. Noam Sobel: How Smells Influence Our Hormones, Health & Behavior | Huberman Lab Podcast', 'Science-Based Mental Training & Visualization for Improved Learning | Huberman Lab Podcast', 'Dr. Matthew MacDougall: Neuralink & Technologies to Enhance Human Brains | Huberman Lab Podcast', 'The Science of Healthy Hair, Hair Loss and How to Regrow Hair | Huberman Lab Podcast', 'Dr. Elissa Epel: Control Stress for Healthy Eating, Metabolism & Aging | Huberman Lab Podcast', 'Leverage Dopamine to Overcome Procrastination & Optimize Effort | Huberman Lab Podcast', 'Dr. Peter Attia: Improve Vitality, Emotional & Physical Health & Lifespan | Huberman Lab Podcast', 'Dr. Satchin Panda: Intermittent Fasting to Improve Health, Cognition & Longevity | Huberman Lab', 'How to Optimize Your Water Quality & Intake for Health | Huberman Lab Podcast', 'Dr. Oded Rechavi: Genes & the Inheritance of Memories Across Generations | Huberman Lab Podcast', 'Dr. Andy Galpin: Optimal Nutrition & Supplementation for Fitness | Huberman Lab Guest Series', 'How to Breathe Correctly for Optimal Health, Mood, Learning & Performance | Huberman Lab Podcast', 'Dr. Andy Galpin: Maximize Recovery to Achieve Fitness & Performance Goals | Huberman Lab', 'Dr. Gina Poe: Use Sleep to Enhance Learning, Memory & Emotional State | Huberman Lab Podcast', 'Dr. Andy Galpin: Optimize Your Training Program for Fitness & Longevity | Huberman Lab Guest Series', 'How to Stop Headaches Using Science-Based Approaches | Huberman Lab Podcast', 'Dr. Andy Galpin: How to Build Physical Endurance & Lose Fat | Huberman Lab Guest Series', 'Dr. Sara Gottfried: How to Optimize Female Hormone Health for Vitality & Longevity | Huberman Lab', 'Dr. Andy Galpin: Optimal Protocols to Build Strength & Grow Muscles | Huberman Lab Guest Series', 'How to Optimize Fertility in Males & Females | Huberman Lab Podcast', 'Dr. Andy Galpin: How to Assess & Improve All Aspects of Your Fitness | Huberman Lab Guest Series', 'Rick Rubin: How to Access Your Creativity | Huberman Lab Podcast', 'Developing a Rational Approach to Supplementation for Health & Performance | Huberman Lab Podcast', 'Dr. Sam Harris: Using Meditation to Focus, View Consciousness & Expand Your Mind | Huberman Lab 105', 'Jocko Willink: How to Become Resilient, Forge Your Identity & Lead Others | Huberman Lab Podcast 104', 'The Science of Creativity & How to Enhance Creative Innovation | Huberman Lab Podcast 103', 'Dr. Kyle Gillett: Tools for Hormone Optimization in Males | Huberman Lab Podcast 102', 'Using Caffeine to Optimize Mental & Physical Performance | Huberman Lab Podcast 101', 'Dr Lex Fridman: Navigating Conflict, Finding Purpose & Maintaining Drive | Huberman Lab Podcast #100', 'Dr. Chris Palmer: Diet & Nutrition for Mental Health | Huberman Lab Podcast #99', 'Science-Based Tools for Increasing Happiness | Huberman Lab Podcast #98', 'Dr Layne Norton: The Science of Eating for Health, Fat Loss & Lean Muscle | Huberman Lab Podcast #97', 'How Meditation Works & Science-Based Effective Meditations | Huberman Lab Podcast #96', 'Dr. Eddie Chang: The Science of Learning & Speaking Languages | Huberman Lab Podcast #95', 'Fitness Toolkit: Protocol & Tools to Optimize Physical Health | Huberman Lab Podcast #94', 'Dr. Nolan Williams: Psychedelics & Neurostimulation for Brain Rewiring | Huberman Lab Podcast #93', 'The Effects of Cannabis (Marijuana) on the Brain & Body | Huberman Lab Podcast #92', 'Dr. Casey Halpern: Biology & Treatments for Compulsive Eating & Behaviors | Huberman Lab Podcast #91', 'Nicotine’s Effects on the Brain & Body & How to Quit Smoking or Vaping | Huberman Lab Podcast #90', 'Dr. David Anderson: The Biology of Aggression, Mating, & Arousal | Huberman Lab Podcast #89', 'Focus Toolkit: Tools to Improve Your Focus & Concentration | Huberman Lab Podcast #88', 'Dr. Erich Jarvis: The Neuroscience of Speech, Language & Music | Huberman Lab Podcast #87', 'What Alcohol Does to Your Body, Brain & Health | Huberman Lab Podcast #86', 'Dr. Peter Attia: Exercise, Nutrition, Hormones for Vitality & Longevity | Huberman Lab Podcast #85', 'Sleep Toolkit: Tools for Optimizing Sleep & Sleep-Wake Timing | Huberman Lab Podcast #84', 'Dr. Emily Balcetis: Tools for Setting & Achieving Goals | Huberman Lab Podcast #83', 'The Science & Treatment of Bipolar Disorder | Huberman Lab Podcast #82', 'Dr. Charles Zuker: The Biology of Taste Perception & Sugar Craving | Huberman Lab Podcast #81', 'Optimize & Control Your Brain Chemistry to Improve Health & Performance | Huberman Lab Podcast #80', 'Jeff Cavaliere: Optimize Your Exercise Program with Science-Based Tools | Huberman Lab Podcast #79', 'The Science & Treatment of Obsessive Compulsive Disorder (OCD) | Huberman Lab Podcast #78', 'Ido Portal: The Science & Practice of Movement | Huberman Lab Podcast #77', 'Improve Flexibility with Research-Supported Stretching Protocols | Huberman Lab Podcast #76', 'Dr. Paul Conti: Therapy, Treating Trauma & Other Life Challenges | Huberman Lab Podcast #75', 'The Science & Process of Healing from Grief | Huberman Lab Podcast #74', 'Dr. Wendy Suzuki: Boost Attention & Memory with Science-Based Tools | Huberman Lab Podcast #73', 'Understand & Improve Memory Using Science-Based Tools | Huberman Lab Podcast #72', 'Understanding & Controlling Aggression | Huberman Lab Podcast #71', 'Dr. Rhonda Patrick: Micronutrients for Health & Longevity | Huberman Lab Podcast #70', 'The Science & Health Benefits of Deliberate Heat Exposure | Huberman Lab Podcast #69', 'Using Light (Sunlight, Blue Light & Red Light) to Optimize Health | Huberman Lab Podcast #68', 'Dr. Kyle Gillett: How to Optimize Your Hormones for Health & Vitality | Huberman Lab Podcast #67', 'Using Deliberate Cold Exposure for Health and Performance | Huberman Lab Podcast #66', 'Dr. Andy Galpin: How to Build Strength, Muscle Size & Endurance | Huberman Lab Podcast #65', 'Controlling Sugar Cravings & Metabolism with Science-Based Tools | Huberman Lab Podcast #64', 'Using Salt to Optimize Mental & Physical Performance | Huberman Lab Podcast #63', 'Dr. Justin Sonnenburg: How to Build, Maintain & Repair Gut Health | Huberman Lab Podcast #62', 'How to Enhance Your Gut Microbiome for Brain & Overall Health | Huberman Lab Podcast #61', 'Dr. David Spiegel: Using Hypnosis to Enhance Health & Performance | Huberman Lab Podcast #60', 'The Science of Love, Desire and Attachment | Huberman Lab Podcast #59', 'Using Play to Rewire & Improve Your Brain | Huberman Lab Podcast #58', 'Optimizing Workspace for Productivity, Focus, & Creativity | Huberman Lab Podcast #57', 'Dr. Alia Crum: Science of Mindsets for Health & Performance | Huberman Lab Podcast #56', 'The Science of Setting & Achieving Goals | Huberman Lab Podcast #55', 'Dr. Jack Feldman: Breathing for Mental & Physical Health & Performance | Huberman Lab Podcast #54', 'The Science of Making & Breaking Habits | Huberman Lab Podcast #53', 'Dr. David Sinclair: The Biology of Slowing & Reversing Aging | Huberman Lab Podcast #52', 'Science of Social Bonding in Family, Friendship & Romantic Love | Huberman Lab Podcast #51', \"Dr. David Berson: Your Brain's Logic & Function | Huberman Lab Podcast #50\", 'Erasing Fears & Traumas Based on the Modern Neuroscience of Fear | Huberman Lab Podcast #49', 'Dr. David Buss: How Humans Select & Keep Romantic Partners in Short & Long Term | Huberman Lab  #48', 'The Science of Gratitude & How to Build a Gratitude Practice | Huberman Lab Podcast #47', 'Time Perception & Entrainment by Dopamine, Serotonin & Hormones | Huberman Lab Podcast #46', 'Dr. Duncan French: How to Exercise for Strength Gains & Hormone Optimization | Huberman Lab #45', 'Using Your Nervous System to Enhance Your Immune System | Huberman Lab Podcast #44', 'Dr. Samer Hattar: Timing Light, Food, & Exercise for Better Sleep, Energy & Mood | Huberman Lab #43', 'Nutrients For Brain Health & Performance | Huberman Lab Podcast #42', 'Effects of Fasting & Time Restricted Eating on Fat Loss & Health | Huberman Lab Podcast #41', 'Dr. Craig Heller: Using Temperature for Performance, Brain & Body Health | Huberman Lab Podcast #40', 'Controlling Your Dopamine For Motivation, Focus & Satisfaction | Huberman Lab Podcast #39', 'Dr. Matthew Johnson: Psychedelics for Treating Mental Disorders | Huberman Lab Podcast #38', 'ADHD & How Anyone Can Improve Their Focus | Huberman Lab Podcast #37', 'Healthy Eating & Eating Disorders - Anorexia, Bulimia, Binging | Huberman Lab Podcast #36', 'Dr. Robert Sapolsky: Science of Stress, Testosterone & Free Will | Huberman Lab Podcast #35', 'Understanding & Conquering Depression | Huberman Lab Podcast #34', 'Dr. Anna Lembke: Understanding & Treating Addiction | Huberman Lab Podcast #33', 'How to Control Your Sense of Pain & Pleasure | Huberman Lab Podcast #32', 'Dr. Matthew Walker: The Science & Practice of Perfecting Your Sleep | Huberman Lab Podcast #31', 'How to Optimize Your Brain-Body Function & Health | Huberman Lab Podcast #30', 'Dr. Lex Fridman: Machines, Creativity & Love | Huberman Lab Podcast #29', 'Maximizing Productivity, Physical & Mental Health with Daily Tools | Huberman Lab Podcast #28', 'The Science of Hearing, Balance & Accelerated Learning | Huberman Lab Podcast #27', 'Dr. Karl Deisseroth: Understanding & Healing the Mind | Huberman Lab Podcast #26', 'How Smell, Taste & Pheromone-Like Chemicals Control You | Huberman Lab Podcast #25', 'The Science of Vision, Eye Health & Seeing Better | Huberman Lab Podcast #24', 'How To Build Endurance In Your Brain & Body | Huberman Lab Podcast #23', 'Science of Muscle Growth, Increasing Strength & Muscular Recovery | Huberman Lab Podcast #22', 'How to Lose Fat with Science-Based Tools | Huberman Lab Podcast #21', 'How to Learn Skills Faster | Huberman Lab Podcast', 'Supercharge Exercise Performance & Recovery with Cooling | Huberman Lab Podcast #19', 'Using Cortisol & Adrenaline to Boost Our Energy & Immune System Function | Huberman Lab Podcast #18', 'How to Control Your Metabolism by Thyroid & Growth Hormone | Huberman Lab Podcast #17', 'How Our Hormones Control Our Hunger, Eating & Satiety | Huberman Lab Podcast #16', 'The Science of How to Optimize Testosterone & Estrogen | Huberman Lab Podcast #15', 'Biological Influences On Sex, Sex Differences & Preferences | Huberman Lab Podcast #14', 'The Science of Emotions & Relationships | Huberman Lab Podcast', 'How to Increase Motivation & Drive | Huberman Lab Podcast #12', 'How Foods and Nutrients Control Our Moods | Huberman Lab Podcast #11', 'Tools for Managing Stress & Anxiety | Huberman Lab Podcast #10', 'Control Pain & Heal Faster with Your Brain | Huberman Lab Podcast #9', 'Optimize Your Learning & Creativity with Science-based Tools | Huberman Lab Podcast #8', 'Using Failures, Movement & Balance to Learn Faster | Huberman Lab Podcast #7', 'How to Focus to Change Your Brain | Huberman Lab Podcast #6', 'Understanding and Using Dreams to Learn and to Forget | Huberman Lab Podcast #5', 'How to Defeat Jetlag, Shift Work & Sleeplessness | Huberman Lab Podcast #4', 'Using Science to Optimize Sleep, Learning & Metabolism | Huberman Lab Podcast #3', 'Master Your Sleep & Be More Alert When Awake | Huberman Lab Podcast #2', 'How Your Nervous System Works & Changes | Huberman Lab Podcast #1']\n"
     ]
    }
   ],
   "source": [
    "print([x['title'] for x in playlist_data])"
   ],
   "metadata": {
    "collapsed": false,
    "ExecuteTime": {
     "end_time": "2023-08-08T01:24:39.381662Z",
     "start_time": "2023-08-08T01:24:39.374735Z"
    }
   }
  },
  {
   "cell_type": "code",
   "execution_count": 11,
   "outputs": [],
   "source": [
    "import pprint"
   ],
   "metadata": {
    "collapsed": false,
    "ExecuteTime": {
     "end_time": "2023-08-08T01:24:40.027674Z",
     "start_time": "2023-08-08T01:24:40.023871Z"
    }
   }
  },
  {
   "cell_type": "code",
   "execution_count": 12,
   "outputs": [
    {
     "name": "stdout",
     "output_type": "stream",
     "text": [
      "Total files processed: 85\n"
     ]
    }
   ],
   "source": [
    "# total files processed\n",
    "total_files_processed = len([name for name in os.listdir(output_directory) if os.path.isfile(os.path.join(output_directory, name))])\n",
    "print(f\"Total files processed: {total_files_processed}\")\n"
   ],
   "metadata": {
    "collapsed": false,
    "ExecuteTime": {
     "end_time": "2023-08-08T01:24:40.512038Z",
     "start_time": "2023-08-08T01:24:40.496886Z"
    }
   }
  },
  {
   "cell_type": "code",
   "execution_count": 13,
   "outputs": [
    {
     "name": "stdout",
     "output_type": "stream",
     "text": [
      "List of remaining files:\n",
      "Tony Hawk： Harnessing Passion, Drive & Persistence for Lifelong Success ｜ Huberman Lab Podcast..json\n",
      "LIVE EVENT Q&A： Dr. Andrew Huberman Question & Answer in New York, NY.json\n",
      ".DS_Store\n",
      "Reduce Anxiety & Stress with the Physiological Sigh ｜ Huberman Lab Quantal Clip.json\n",
      "AMA #1： Leveraging Ultradian Cycles, How to Protect Your Brain, Seed Oils Examined and More.json\n",
      "LIVE EVENT Q&A： Dr. Andrew Huberman Question & Answer in Portland, OR.json\n",
      "Dr. Maya Shankar： How to Shape Your Identity & Goals ｜ Huberman Lab Podcast..json\n",
      "AMA #3： Adaptogens, Fasting & Fertility, Bluetooth⧸EMF Risks, Cognitive Load Limits & More.json\n",
      "Dr. Robert Malenka： How Your Brain’s Reward Circuits Drive Your Choices ｜ Huberman Lab Podcast..json\n",
      "Welcome to the Huberman Lab Podcast.json\n",
      "AMA #4： Maintain Motivation, Improve REM Sleep, Set Goals, Manage Anxiety & More.json\n",
      "AMA #2： Improve Sleep, Reduce Sugar Cravings, Optimal Protein Intake, Stretching Frequency & More.json\n",
      "How to Control Stress in Real-Time ｜ Huberman Lab Quantal Clip.json\n",
      "LIVE EVENT Q&A： Dr. Andrew Huberman Question & Answer in Los Angeles, CA.json\n",
      "Understanding and Using Dreams to Learn and to Forget ｜ Huberman Lab Podcast #5.json\n",
      "LIVE EVENT Q&A： Dr. Andrew Huberman Question & Answer in Seattle, WA.json\n"
     ]
    }
   ],
   "source": [
    "    remaining_files = [name for name in os.listdir(video_files_directory) if os.path.isfile(os.path.join(video_files_directory, name)) and name not in os.listdir(output_directory)]\n",
    "    print(\"List of remaining files:\")\n",
    "    for file in remaining_files:\n",
    "        print(file)"
   ],
   "metadata": {
    "collapsed": false,
    "ExecuteTime": {
     "end_time": "2023-08-08T01:24:42.463539Z",
     "start_time": "2023-08-08T01:24:42.453365Z"
    }
   }
  },
  {
   "cell_type": "code",
   "execution_count": 45,
   "outputs": [],
   "source": [
    "with open('/Users/ashishsavani/HubermanGPT/data/processed/Dr. David Spiegel： Using Hypnosis to Enhance Health & Performance ｜ Huberman Lab Podcast #60.json', 'r') as file:\n",
    "    david = json.load(file)"
   ],
   "metadata": {
    "collapsed": false,
    "ExecuteTime": {
     "end_time": "2023-08-08T01:37:13.702594Z",
     "start_time": "2023-08-08T01:37:13.688589Z"
    }
   }
  },
  {
   "cell_type": "code",
   "execution_count": 61,
   "outputs": [
    {
     "data": {
      "text/plain": "\"In this episode of the Huberman Lab Podcast, Dr. Andrew Huberman interviews Dr. David Spiegel, an expert in hypnosis and clinical applications of hypnosis. They discuss the unique brain state of hypnosis and its potential to bring about positive changes in the brain, body, and other aspects of biology and psychology. Dr. Spiegel's research has shown that hypnosis can have a significant impact on symptoms of stress, chronic anxiety, chronic pain, psychiatric illnesses, and even outcomes in cancer. They also touch on the use of breathwork for anxiety, mood improvement, and better sleep. Listeners are given access to the Reverie app, developed by Dr. Spiegel and his team at Stanford, which provides effective hypnosis treatments. Overall, this episode provides valuable insights into the connection between the brain and body and offers actionable tools for improving mental and physical well-being.\""
     },
     "execution_count": 61,
     "metadata": {},
     "output_type": "execute_result"
    }
   ],
   "source": [
    "json.loads(david[0]['summary'])['summary']"
   ],
   "metadata": {
    "collapsed": false,
    "ExecuteTime": {
     "end_time": "2023-08-08T01:39:17.025327Z",
     "start_time": "2023-08-08T01:39:17.022451Z"
    }
   }
  },
  {
   "cell_type": "code",
   "execution_count": 62,
   "outputs": [
    {
     "name": "stdout",
     "output_type": "stream",
     "text": [
      "['Dr. David Spiegel： Using Hypnosis to Enhance Health & Performance ｜ Huberman Lab Podcast #60.json', 'Dr. Duncan French： How to Exercise for Strength Gains & Hormone Optimization ｜ Huberman Lab #45.json', 'Dr. Paul Conti： Therapy, Treating Trauma & Other Life Challenges ｜ Huberman Lab Podcast #75.json', 'Developing a Rational Approach to Supplementation for Health & Performance ｜ Huberman Lab Podcast.json', 'The Science of Creativity & How to Enhance Creative Innovation ｜ Huberman Lab Podcast 103.json', 'Dr. Jeffrey Goldberg： How to Improve Your Eye Health & Offset Vision Loss ｜ Huberman Lab Podcast.json', 'Dr. Andy Galpin： Optimal Nutrition & Supplementation for Fitness ｜ Huberman Lab Guest Series.json', 'The Science of How to Optimize Testosterone & Estrogen ｜ Huberman Lab Podcast #15.json', 'Dr. Andy Galpin： How to Assess & Improve All Aspects of Your Fitness ｜ Huberman Lab Guest Series.json', 'Dr. Immordino-Yang： How Emotions & Social Factors Impact Learning ｜ Huberman Lab Podcast.json', 'Science-Based Mental Training & Visualization for Improved Learning ｜ Huberman Lab Podcast.json', 'Dr. Nolan Williams： Psychedelics & Neurostimulation for Brain Rewiring ｜ Huberman Lab Podcast #93.json', 'Dr. Samer Hattar： Timing Light, Food, & Exercise for Better Sleep, Energy & Mood ｜ Huberman Lab #43.json', 'Dr. Matthew MacDougall： Neuralink & Technologies to Enhance Human Brains ｜ Huberman Lab Podcast.json', 'Nicotine’s Effects on the Brain & Body & How to Quit Smoking or Vaping ｜ Huberman Lab Podcast #90.json', 'Dr. Jack Feldman： Breathing for Mental & Physical Health & Performance ｜ Huberman Lab Podcast #54.json', 'Healthy Eating & Eating Disorders - Anorexia, Bulimia, Binging ｜ Huberman Lab Podcast #36.json', 'Dr. Chris Palmer： Diet & Nutrition for Mental Health ｜ Huberman Lab Podcast #99.json', 'Dr. Erich Jarvis： The Neuroscience of Speech, Language & Music ｜ Huberman Lab Podcast #87.json', 'Dr. Oded Rechavi： Genes & the Inheritance of Memories Across Generations ｜ Huberman Lab Podcast.json', 'The Science of Hearing, Balance & Accelerated Learning ｜ Huberman Lab Podcast #27.json', 'Dr. Kyle Gillett： How to Optimize Your Hormones for Health & Vitality ｜ Huberman Lab Podcast #67.json', 'Jocko Willink： How to Become Resilient, Forge Your Identity & Lead Others ｜ Huberman Lab Podcast 104.json', \"Dr. David Berson： Your Brain's Logic & Function ｜ Huberman Lab Podcast #50.json\", 'Dr. Justin Sonnenburg： How to Build, Maintain & Repair Gut Health ｜ Huberman Lab Podcast #62.json', 'Jeff Cavaliere： Optimize Your Exercise Program with Science-Based Tools ｜ Huberman Lab Podcast #79.json', 'How to Breathe Correctly for Optimal Health, Mood, Learning & Performance ｜ Huberman Lab Podcast.json', 'Sleep Toolkit： Tools for Optimizing Sleep & Sleep-Wake Timing ｜ Huberman Lab Podcast #84.json', 'Dr. Satchin Panda： Intermittent Fasting to Improve Health, Cognition & Longevity ｜ Huberman Lab.json', 'Using Your Nervous System to Enhance Your Immune System ｜ Huberman Lab Podcast #44.json', 'Dr. Gina Poe： Use Sleep to Enhance Learning, Memory & Emotional State ｜ Huberman Lab Podcast.json', 'Dr. Emily Balcetis： Tools for Setting & Achieving Goals ｜ Huberman Lab Podcast #83.json', 'Dr. Craig Heller： Using Temperature for Performance, Brain & Body Health ｜ Huberman Lab Podcast #40.json', 'Dr. Maya Shankar： How to Shape Your Identity & Goals ｜ Huberman Lab Podcast.json', 'Dr. Matthew Johnson： Psychedelics for Treating Mental Disorders ｜ Huberman Lab Podcast #38.json', 'Dr. Rhonda Patrick： Micronutrients for Health & Longevity ｜ Huberman Lab Podcast #70.json', 'Dr. Charles Zuker： The Biology of Taste Perception & Sugar Craving ｜ Huberman Lab Podcast #81.json', 'Dr. Andy Galpin： How to Build Physical Endurance & Lose Fat ｜ Huberman Lab Guest Series.json', 'Dr. Peter Attia： Improve Vitality, Emotional & Physical Health & Lifespan ｜ Huberman Lab Podcast.json', 'Dr Lex Fridman： Navigating Conflict, Finding Purpose & Maintaining Drive ｜ Huberman Lab Podcast #100.json', 'How to Stop Headaches Using Science-Based Approaches ｜ Huberman Lab Podcast.json', 'Using Caffeine to Optimize Mental & Physical Performance ｜ Huberman Lab Podcast 101.json', 'Dr. David Sinclair： The Biology of Slowing & Reversing Aging ｜ Huberman Lab Podcast #52.json', 'The Science of Vision, Eye Health & Seeing Better ｜ Huberman Lab Podcast #24.json', 'Tony Hawk： Harnessing Passion, Drive & Persistence for Lifelong Success ｜ Huberman Lab Podcast.json', 'Dr. Peter Attia： Exercise, Nutrition, Hormones for Vitality & Longevity ｜ Huberman Lab Podcast #85.json', 'The Effects of Cannabis (Marijuana) on the Brain & Body ｜ Huberman Lab Podcast #92.json', 'Time Perception & Entrainment by Dopamine, Serotonin & Hormones ｜ Huberman Lab Podcast #46.json', 'Maximizing Productivity, Physical & Mental Health with Daily Tools ｜ Huberman Lab Podcast #28.json', 'Dr. Andy Galpin： How to Build Strength, Muscle Size & Endurance ｜ Huberman Lab Podcast #65.json', 'Dr. Andy Galpin： Optimal Protocols to Build Strength & Grow Muscles ｜ Huberman Lab Guest Series.json', 'Dr. Karl Deisseroth： Understanding & Healing the Mind ｜ Huberman Lab Podcast #26.json', 'Dr. Matthew Walker： The Science & Practice of Perfecting Your Sleep ｜ Huberman Lab Podcast #31.json', 'Dr. Robert Malenka： How Your Brain’s Reward Circuits Drive Your Choices ｜ Huberman Lab Podcast.json', 'Tim Ferriss： How to Learn Better & Create Your Best Future ｜ Huberman Lab Podcast.json', 'Dr. Eddie Chang： The Science of Learning & Speaking Languages ｜ Huberman Lab Podcast #95.json', 'Ido Portal： The Science & Practice of Movement ｜ Huberman Lab Podcast #77.json', 'Dr. Wendy Suzuki： Boost Attention & Memory with Science-Based Tools ｜ Huberman Lab Podcast #73.json', 'Dr. Anna Lembke： Understanding & Treating Addiction ｜ Huberman Lab Podcast #33.json', 'How to Control Your Metabolism by Thyroid & Growth Hormone ｜ Huberman Lab Podcast #17.json', 'Dr. Sara Gottfried： How to Optimize Female Hormone Health for Vitality & Longevity ｜ Huberman Lab.json', 'The Science of Love, Desire and Attachment ｜ Huberman Lab Podcast #59.json', 'What Alcohol Does to Your Body, Brain & Health ｜ Huberman Lab Podcast #86.json', 'Dr. Noam Sobel： How Smells Influence Our Hormones, Health & Behavior ｜ Huberman Lab Podcast.json', 'Dr. Kyle Gillett： Tools for Hormone Optimization in Males ｜ Huberman Lab Podcast 102.json', 'Dr. Lex Fridman： Machines, Creativity & Love ｜ Huberman Lab Podcast #29.json', 'Adderall, Stimulants & Modafinil for ADHD： Short- & Long-Term Effects ｜ Huberman Lab Podcast.json', 'Dr. David Anderson： The Biology of Aggression, Mating, & Arousal ｜ Huberman Lab Podcast #89.json', 'The Science of Emotions & Relationships ｜ Huberman Lab Podcast.json', 'How Meditation Works & Science-Based Effective Meditations ｜ Huberman Lab Podcast #96.json', 'Dr. Elissa Epel： Control Stress for Healthy Eating, Metabolism & Aging ｜ Huberman Lab Podcast.json', 'Rick Rubin： How to Access Your Creativity ｜ Huberman Lab Podcast.json', 'Dr. Casey Halpern： Biology & Treatments for Compulsive Eating & Behaviors ｜ Huberman Lab Podcast #91.json', 'Dr. Robert Sapolsky： Science of Stress, Testosterone & Free Will ｜ Huberman Lab Podcast #35.json', 'Dr. Andy Galpin： Maximize Recovery to Achieve Fitness & Performance Goals ｜ Huberman Lab.json', 'Science-Based Tools for Increasing Happiness ｜ Huberman Lab Podcast #98.json', 'Dr. Robin Carhart-Harris： The Science of Psychedelics for Mental Health ｜ Huberman Lab Podcast.json', 'Dr. Alia Crum： Science of Mindsets for Health & Performance ｜ Huberman Lab Podcast #56.json', 'Controlling Your Dopamine For Motivation, Focus & Satisfaction ｜ Huberman Lab Podcast #39.json', 'Dr Layne Norton： The Science of Eating for Health, Fat Loss & Lean Muscle ｜ Huberman Lab Podcast #97.json', 'How to Optimize Fertility in Males & Females ｜ Huberman Lab Podcast.json', 'Dr. David Buss： How Humans Select & Keep Romantic Partners in Short & Long Term ｜ Huberman Lab  #48.json', 'Dr. Sam Harris： Using Meditation to Focus, View Consciousness & Expand Your Mind ｜ Huberman Lab 105.json', 'Dr. Susanna Søberg： How to Use Cold & Heat Exposure to Improve Your Health ｜ Huberman Lab Podcast.json', 'Dr. Andy Galpin： Optimize Your Training Program for Fitness & Longevity ｜ Huberman Lab Guest Series.json']\n"
     ]
    }
   ],
   "source": [
    "files_in_directory = os.listdir('/Users/ashishsavani/HubermanGPT/data/processed/')\n",
    "print(files_in_directory)"
   ],
   "metadata": {
    "collapsed": false,
    "ExecuteTime": {
     "end_time": "2023-08-08T18:49:13.675870Z",
     "start_time": "2023-08-08T18:49:13.673760Z"
    }
   }
  },
  {
   "cell_type": "code",
   "execution_count": 65,
   "outputs": [
    {
     "name": "stdout",
     "output_type": "stream",
     "text": [
      "Non-ASCII characters found:\n"
     ]
    }
   ],
   "source": [
    "import os\n",
    "\n",
    "def find_non_ascii_chars(directory):\n",
    "    filenames = os.listdir(directory)\n",
    "\n",
    "    # Use a set to store unique non-ASCII characters\n",
    "    non_ascii_chars = set()\n",
    "\n",
    "    for filename in filenames:\n",
    "        for char in filename:\n",
    "            # Check if the character's ordinal value is outside the ASCII range\n",
    "            if ord(char) > 127:\n",
    "                non_ascii_chars.add(char)\n",
    "\n",
    "    return non_ascii_chars\n",
    "\n",
    "directory_path = '/Users/ashishsavani/HubermanGPT/data/processed/'\n",
    "non_ascii_chars_found = find_non_ascii_chars(directory_path)\n",
    "\n",
    "print(\"Non-ASCII characters found:\")\n",
    "for char in non_ascii_chars_found:\n",
    "    print(char, \"-\", ord(char))\n",
    "\n"
   ],
   "metadata": {
    "collapsed": false,
    "ExecuteTime": {
     "end_time": "2023-08-08T18:52:16.125215Z",
     "start_time": "2023-08-08T18:52:16.121936Z"
    }
   }
  },
  {
   "cell_type": "code",
   "execution_count": 69,
   "outputs": [],
   "source": [
    "import os\n",
    "\n",
    "directory_path = '/Users/ashishsavani/HubermanGPT/data/processed/'\n",
    "\n",
    "# Mapping of non-ASCII characters to their ASCII alternatives\n",
    "char_map = {\n",
    "    '：': ':',\n",
    "    '’': \"'\",\n",
    "    'ø': 'o',\n",
    "    '｜': '|'\n",
    "}\n",
    "\n",
    "for filename in os.listdir(directory_path):\n",
    "    new_filename = filename\n",
    "    for char, replacement in char_map.items():\n",
    "        new_filename = new_filename.replace(char, replacement)\n",
    "\n",
    "    # Rename the file only if there were changes to the filename\n",
    "    if new_filename != filename:\n",
    "        os.rename(os.path.join(directory_path, filename), os.path.join(directory_path, new_filename))\n",
    "        print(f\"Renamed {filename} to {new_filename}\")\n"
   ],
   "metadata": {
    "collapsed": false,
    "ExecuteTime": {
     "end_time": "2023-08-08T18:55:11.907246Z",
     "start_time": "2023-08-08T18:55:11.904050Z"
    }
   }
  },
  {
   "cell_type": "code",
   "execution_count": 9,
   "outputs": [],
   "source": [],
   "metadata": {
    "collapsed": false,
    "ExecuteTime": {
     "end_time": "2023-08-08T19:01:04.213899Z",
     "start_time": "2023-08-08T19:01:04.208129Z"
    }
   }
  }
 ],
 "metadata": {
  "kernelspec": {
   "display_name": "Python 3",
   "language": "python",
   "name": "python3"
  },
  "language_info": {
   "codemirror_mode": {
    "name": "ipython",
    "version": 2
   },
   "file_extension": ".py",
   "mimetype": "text/x-python",
   "name": "python",
   "nbconvert_exporter": "python",
   "pygments_lexer": "ipython2",
   "version": "2.7.6"
  }
 },
 "nbformat": 4,
 "nbformat_minor": 0
}
